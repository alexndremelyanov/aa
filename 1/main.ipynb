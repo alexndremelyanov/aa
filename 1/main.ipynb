{
 "cells": [
  {
   "cell_type": "code",
   "execution_count": 6,
   "metadata": {},
   "outputs": [
    {
     "name": "stdout",
     "output_type": "stream",
     "text": [
      "Средняя абсолютная ошибка: 0.187308149671782\n",
      "Средняя абсолютная ошибка в процентах: 13.603080017989797\n"
     ]
    }
   ],
   "source": [
    "import pandas as pd\n",
    "from sklearn.preprocessing import OneHotEncoder\n",
    "from sklearn.model_selection import train_test_split\n",
    "from sklearn.preprocessing import StandardScaler\n",
    "\n",
    "data = pd.read_csv(\"video_games.csv\")\n",
    "\n",
    "number_columns = [\n",
    "    \"year\",\n",
    "    \"eu_sales\",\n",
    "    \"na_sales\",\n",
    "    \"other_sales\",\n",
    "]\n",
    "\n",
    "unique_columns = [\n",
    "    \"platform\",\n",
    "    \"genre\",\n",
    "    \"publisher\",\n",
    "]\n",
    "\n",
    "encoder = OneHotEncoder()\n",
    "encoded_features = encoder.fit_transform(data[unique_columns])\n",
    "\n",
    "x = pd.concat([data[number_columns], pd.DataFrame(encoded_features.toarray())], axis=1)\n",
    "\n",
    "y = data[\"jp_sales\"]\n",
    "\n",
    "scaler = StandardScaler()\n",
    "\n",
    "x[number_columns] = scaler.fit_transform(x[number_columns])\n",
    "import numpy as np\n",
    "\n",
    "class MultipleRegression:\n",
    "    def __init__(self, learning_rate=0.1, n_iterations=1000):\n",
    "        self.learning_rate = learning_rate\n",
    "        self.n_iterations = n_iterations\n",
    "        self.weights = np.zeros(x.shape[1])\n",
    "\n",
    "    def calculate_gradient(self, x, y):\n",
    "        n_samples = x.shape[0]\n",
    "        y_pred = x.dot(self.weights)\n",
    "        error = y_pred - y\n",
    "        gradient = x.T.dot(error) / n_samples\n",
    "        return gradient\n",
    "    \n",
    "    def fit(self, x, y):\n",
    "        for _ in range(self.n_iterations):\n",
    "            gradient = self.calculate_gradient(x, y)\n",
    "            self.weights -= self.learning_rate * gradient\n",
    "\n",
    "    def predict(self, x):\n",
    "        return x.dot(self.weights)\n",
    "\n",
    "model = MultipleRegression()\n",
    "model.fit(x, y)\n",
    "\n",
    "y_pred = model.predict(x)\n",
    "\n",
    "mae = np.mean(np.abs(y - y_pred))\n",
    "mape = np.mean(np.abs((y - y_pred) / y)) * 100\n",
    "\n",
    "print(\"Средняя абсолютная ошибка:\", mae)\n",
    "print(\"Средняя абсолютная ошибка в процентах:\", mape)"
   ]
  },
  {
   "cell_type": "code",
   "execution_count": null,
   "metadata": {},
   "outputs": [],
   "source": []
  }
 ],
 "metadata": {
  "kernelspec": {
   "display_name": "Python 3",
   "language": "python",
   "name": "python3"
  },
  "language_info": {
   "codemirror_mode": {
    "name": "ipython",
    "version": 3
   },
   "file_extension": ".py",
   "mimetype": "text/x-python",
   "name": "python",
   "nbconvert_exporter": "python",
   "pygments_lexer": "ipython3",
   "version": "3.11.5"
  },
  "orig_nbformat": 4
 },
 "nbformat": 4,
 "nbformat_minor": 2
}
